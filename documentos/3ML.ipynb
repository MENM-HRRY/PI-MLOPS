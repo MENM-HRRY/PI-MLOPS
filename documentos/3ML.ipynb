{
 "cells": [
  {
   "cell_type": "markdown",
   "metadata": {},
   "source": [
    "# <h1 align=center> **MACHINE LEARNING** </h1>"
   ]
  },
  {
   "cell_type": "code",
   "execution_count": 1,
   "metadata": {},
   "outputs": [],
   "source": [
    "import pandas as pd\n",
    "import numpy as np\n",
    "import matplotlib.pyplot as plt\n",
    "from collections import Counter\n",
    "import seaborn as sns\n",
    "import warnings\n",
    "from surprise import Dataset,Reader,SVD,accuracy\n",
    "from surprise.model_selection import train_test_split\n",
    "import pyarrow.parquet as pq\n",
    "import pickle \n",
    "warnings.filterwarnings(\"ignore\")  # Suprimir todos los warnings\n",
    "# Instanciamos los dataset\n",
    "games=pd.read_parquet(\"games.parquet\")\n",
    "reviews=pd.read_parquet(\"reviews.parquet\")"
   ]
  },
  {
   "cell_type": "markdown",
   "metadata": {},
   "source": [
    "Combinamos mediante un Merge los DataFrames 'reviews' y 'games' por item_id"
   ]
  },
  {
   "cell_type": "code",
   "execution_count": 2,
   "metadata": {},
   "outputs": [
    {
     "data": {
      "text/html": [
       "<div>\n",
       "<style scoped>\n",
       "    .dataframe tbody tr th:only-of-type {\n",
       "        vertical-align: middle;\n",
       "    }\n",
       "\n",
       "    .dataframe tbody tr th {\n",
       "        vertical-align: top;\n",
       "    }\n",
       "\n",
       "    .dataframe thead th {\n",
       "        text-align: right;\n",
       "    }\n",
       "</style>\n",
       "<table border=\"1\" class=\"dataframe\">\n",
       "  <thead>\n",
       "    <tr style=\"text-align: right;\">\n",
       "      <th></th>\n",
       "      <th>item_id</th>\n",
       "      <th>user_id</th>\n",
       "      <th>sentiment_analysis</th>\n",
       "      <th>recommend</th>\n",
       "      <th>app_name</th>\n",
       "    </tr>\n",
       "  </thead>\n",
       "  <tbody>\n",
       "    <tr>\n",
       "      <th>0</th>\n",
       "      <td>1250</td>\n",
       "      <td>76561197970982479</td>\n",
       "      <td>2</td>\n",
       "      <td>True</td>\n",
       "      <td>Killing Floor</td>\n",
       "    </tr>\n",
       "    <tr>\n",
       "      <th>1</th>\n",
       "      <td>22200</td>\n",
       "      <td>76561197970982479</td>\n",
       "      <td>2</td>\n",
       "      <td>True</td>\n",
       "      <td>Zeno Clash</td>\n",
       "    </tr>\n",
       "    <tr>\n",
       "      <th>2</th>\n",
       "      <td>227300</td>\n",
       "      <td>js41637</td>\n",
       "      <td>2</td>\n",
       "      <td>True</td>\n",
       "      <td>Euro Truck Simulator 2</td>\n",
       "    </tr>\n",
       "    <tr>\n",
       "      <th>3</th>\n",
       "      <td>239030</td>\n",
       "      <td>js41637</td>\n",
       "      <td>2</td>\n",
       "      <td>True</td>\n",
       "      <td>Papers, Please</td>\n",
       "    </tr>\n",
       "    <tr>\n",
       "      <th>4</th>\n",
       "      <td>370360</td>\n",
       "      <td>evcentric</td>\n",
       "      <td>2</td>\n",
       "      <td>True</td>\n",
       "      <td>TIS-100</td>\n",
       "    </tr>\n",
       "    <tr>\n",
       "      <th>...</th>\n",
       "      <td>...</td>\n",
       "      <td>...</td>\n",
       "      <td>...</td>\n",
       "      <td>...</td>\n",
       "      <td>...</td>\n",
       "    </tr>\n",
       "    <tr>\n",
       "      <th>44734</th>\n",
       "      <td>730</td>\n",
       "      <td>76561198239215706</td>\n",
       "      <td>2</td>\n",
       "      <td>True</td>\n",
       "      <td>Counter-Strike: Global Offensive</td>\n",
       "    </tr>\n",
       "    <tr>\n",
       "      <th>44735</th>\n",
       "      <td>730</td>\n",
       "      <td>wayfeng</td>\n",
       "      <td>1</td>\n",
       "      <td>True</td>\n",
       "      <td>Counter-Strike: Global Offensive</td>\n",
       "    </tr>\n",
       "    <tr>\n",
       "      <th>44736</th>\n",
       "      <td>253980</td>\n",
       "      <td>76561198251004808</td>\n",
       "      <td>2</td>\n",
       "      <td>True</td>\n",
       "      <td>Enclave</td>\n",
       "    </tr>\n",
       "    <tr>\n",
       "      <th>44737</th>\n",
       "      <td>730</td>\n",
       "      <td>72947282842</td>\n",
       "      <td>0</td>\n",
       "      <td>True</td>\n",
       "      <td>Counter-Strike: Global Offensive</td>\n",
       "    </tr>\n",
       "    <tr>\n",
       "      <th>44738</th>\n",
       "      <td>730</td>\n",
       "      <td>ApxLGhost</td>\n",
       "      <td>2</td>\n",
       "      <td>True</td>\n",
       "      <td>Counter-Strike: Global Offensive</td>\n",
       "    </tr>\n",
       "  </tbody>\n",
       "</table>\n",
       "<p>44739 rows × 5 columns</p>\n",
       "</div>"
      ],
      "text/plain": [
       "       item_id            user_id  sentiment_analysis  recommend  \\\n",
       "0         1250  76561197970982479                   2       True   \n",
       "1        22200  76561197970982479                   2       True   \n",
       "2       227300            js41637                   2       True   \n",
       "3       239030            js41637                   2       True   \n",
       "4       370360          evcentric                   2       True   \n",
       "...        ...                ...                 ...        ...   \n",
       "44734      730  76561198239215706                   2       True   \n",
       "44735      730            wayfeng                   1       True   \n",
       "44736   253980  76561198251004808                   2       True   \n",
       "44737      730        72947282842                   0       True   \n",
       "44738      730          ApxLGhost                   2       True   \n",
       "\n",
       "                               app_name  \n",
       "0                         Killing Floor  \n",
       "1                            Zeno Clash  \n",
       "2                Euro Truck Simulator 2  \n",
       "3                        Papers, Please  \n",
       "4                               TIS-100  \n",
       "...                                 ...  \n",
       "44734  Counter-Strike: Global Offensive  \n",
       "44735  Counter-Strike: Global Offensive  \n",
       "44736                           Enclave  \n",
       "44737  Counter-Strike: Global Offensive  \n",
       "44738  Counter-Strike: Global Offensive  \n",
       "\n",
       "[44739 rows x 5 columns]"
      ]
     },
     "execution_count": 2,
     "metadata": {},
     "output_type": "execute_result"
    }
   ],
   "source": [
    "merged_df = pd.merge(reviews[['item_id', 'user_id', 'sentiment_analysis',\"recommend\"]], games[['app_name',\"item_id\"]], left_on='item_id', right_on=\"item_id\")\n",
    "merged_df"
   ]
  },
  {
   "cell_type": "markdown",
   "metadata": {},
   "source": [
    "Trasnfomamos el valor booleano de la columna 'recommend' por numerico para el calculo del rating"
   ]
  },
  {
   "cell_type": "code",
   "execution_count": 3,
   "metadata": {},
   "outputs": [
    {
     "data": {
      "text/html": [
       "<div>\n",
       "<style scoped>\n",
       "    .dataframe tbody tr th:only-of-type {\n",
       "        vertical-align: middle;\n",
       "    }\n",
       "\n",
       "    .dataframe tbody tr th {\n",
       "        vertical-align: top;\n",
       "    }\n",
       "\n",
       "    .dataframe thead th {\n",
       "        text-align: right;\n",
       "    }\n",
       "</style>\n",
       "<table border=\"1\" class=\"dataframe\">\n",
       "  <thead>\n",
       "    <tr style=\"text-align: right;\">\n",
       "      <th></th>\n",
       "      <th>item_id</th>\n",
       "      <th>user_id</th>\n",
       "      <th>sentiment_analysis</th>\n",
       "      <th>recommend</th>\n",
       "      <th>app_name</th>\n",
       "    </tr>\n",
       "  </thead>\n",
       "  <tbody>\n",
       "    <tr>\n",
       "      <th>0</th>\n",
       "      <td>1250</td>\n",
       "      <td>76561197970982479</td>\n",
       "      <td>2</td>\n",
       "      <td>1</td>\n",
       "      <td>Killing Floor</td>\n",
       "    </tr>\n",
       "    <tr>\n",
       "      <th>1</th>\n",
       "      <td>22200</td>\n",
       "      <td>76561197970982479</td>\n",
       "      <td>2</td>\n",
       "      <td>1</td>\n",
       "      <td>Zeno Clash</td>\n",
       "    </tr>\n",
       "    <tr>\n",
       "      <th>2</th>\n",
       "      <td>227300</td>\n",
       "      <td>js41637</td>\n",
       "      <td>2</td>\n",
       "      <td>1</td>\n",
       "      <td>Euro Truck Simulator 2</td>\n",
       "    </tr>\n",
       "    <tr>\n",
       "      <th>3</th>\n",
       "      <td>239030</td>\n",
       "      <td>js41637</td>\n",
       "      <td>2</td>\n",
       "      <td>1</td>\n",
       "      <td>Papers, Please</td>\n",
       "    </tr>\n",
       "    <tr>\n",
       "      <th>4</th>\n",
       "      <td>370360</td>\n",
       "      <td>evcentric</td>\n",
       "      <td>2</td>\n",
       "      <td>1</td>\n",
       "      <td>TIS-100</td>\n",
       "    </tr>\n",
       "    <tr>\n",
       "      <th>...</th>\n",
       "      <td>...</td>\n",
       "      <td>...</td>\n",
       "      <td>...</td>\n",
       "      <td>...</td>\n",
       "      <td>...</td>\n",
       "    </tr>\n",
       "    <tr>\n",
       "      <th>44734</th>\n",
       "      <td>730</td>\n",
       "      <td>76561198239215706</td>\n",
       "      <td>2</td>\n",
       "      <td>1</td>\n",
       "      <td>Counter-Strike: Global Offensive</td>\n",
       "    </tr>\n",
       "    <tr>\n",
       "      <th>44735</th>\n",
       "      <td>730</td>\n",
       "      <td>wayfeng</td>\n",
       "      <td>1</td>\n",
       "      <td>1</td>\n",
       "      <td>Counter-Strike: Global Offensive</td>\n",
       "    </tr>\n",
       "    <tr>\n",
       "      <th>44736</th>\n",
       "      <td>253980</td>\n",
       "      <td>76561198251004808</td>\n",
       "      <td>2</td>\n",
       "      <td>1</td>\n",
       "      <td>Enclave</td>\n",
       "    </tr>\n",
       "    <tr>\n",
       "      <th>44737</th>\n",
       "      <td>730</td>\n",
       "      <td>72947282842</td>\n",
       "      <td>0</td>\n",
       "      <td>1</td>\n",
       "      <td>Counter-Strike: Global Offensive</td>\n",
       "    </tr>\n",
       "    <tr>\n",
       "      <th>44738</th>\n",
       "      <td>730</td>\n",
       "      <td>ApxLGhost</td>\n",
       "      <td>2</td>\n",
       "      <td>1</td>\n",
       "      <td>Counter-Strike: Global Offensive</td>\n",
       "    </tr>\n",
       "  </tbody>\n",
       "</table>\n",
       "<p>44739 rows × 5 columns</p>\n",
       "</div>"
      ],
      "text/plain": [
       "       item_id            user_id  sentiment_analysis  recommend  \\\n",
       "0         1250  76561197970982479                   2          1   \n",
       "1        22200  76561197970982479                   2          1   \n",
       "2       227300            js41637                   2          1   \n",
       "3       239030            js41637                   2          1   \n",
       "4       370360          evcentric                   2          1   \n",
       "...        ...                ...                 ...        ...   \n",
       "44734      730  76561198239215706                   2          1   \n",
       "44735      730            wayfeng                   1          1   \n",
       "44736   253980  76561198251004808                   2          1   \n",
       "44737      730        72947282842                   0          1   \n",
       "44738      730          ApxLGhost                   2          1   \n",
       "\n",
       "                               app_name  \n",
       "0                         Killing Floor  \n",
       "1                            Zeno Clash  \n",
       "2                Euro Truck Simulator 2  \n",
       "3                        Papers, Please  \n",
       "4                               TIS-100  \n",
       "...                                 ...  \n",
       "44734  Counter-Strike: Global Offensive  \n",
       "44735  Counter-Strike: Global Offensive  \n",
       "44736                           Enclave  \n",
       "44737  Counter-Strike: Global Offensive  \n",
       "44738  Counter-Strike: Global Offensive  \n",
       "\n",
       "[44739 rows x 5 columns]"
      ]
     },
     "execution_count": 3,
     "metadata": {},
     "output_type": "execute_result"
    }
   ],
   "source": [
    "merged_df['recommend'] = merged_df['recommend'].replace({True: 1, False: 0})\n",
    "merged_df"
   ]
  },
  {
   "cell_type": "markdown",
   "metadata": {},
   "source": [
    "Contruimos un rating constrastando las recomendaciones con el resultado del analisis del sentimientos "
   ]
  },
  {
   "cell_type": "code",
   "execution_count": 4,
   "metadata": {},
   "outputs": [
    {
     "data": {
      "text/html": [
       "<div>\n",
       "<style scoped>\n",
       "    .dataframe tbody tr th:only-of-type {\n",
       "        vertical-align: middle;\n",
       "    }\n",
       "\n",
       "    .dataframe tbody tr th {\n",
       "        vertical-align: top;\n",
       "    }\n",
       "\n",
       "    .dataframe thead th {\n",
       "        text-align: right;\n",
       "    }\n",
       "</style>\n",
       "<table border=\"1\" class=\"dataframe\">\n",
       "  <thead>\n",
       "    <tr style=\"text-align: right;\">\n",
       "      <th></th>\n",
       "      <th>item_id</th>\n",
       "      <th>user_id</th>\n",
       "      <th>sentiment_analysis</th>\n",
       "      <th>recommend</th>\n",
       "      <th>app_name</th>\n",
       "      <th>rating</th>\n",
       "    </tr>\n",
       "  </thead>\n",
       "  <tbody>\n",
       "    <tr>\n",
       "      <th>0</th>\n",
       "      <td>1250</td>\n",
       "      <td>76561197970982479</td>\n",
       "      <td>2</td>\n",
       "      <td>1</td>\n",
       "      <td>Killing Floor</td>\n",
       "      <td>5</td>\n",
       "    </tr>\n",
       "    <tr>\n",
       "      <th>1</th>\n",
       "      <td>22200</td>\n",
       "      <td>76561197970982479</td>\n",
       "      <td>2</td>\n",
       "      <td>1</td>\n",
       "      <td>Zeno Clash</td>\n",
       "      <td>5</td>\n",
       "    </tr>\n",
       "    <tr>\n",
       "      <th>2</th>\n",
       "      <td>227300</td>\n",
       "      <td>js41637</td>\n",
       "      <td>2</td>\n",
       "      <td>1</td>\n",
       "      <td>Euro Truck Simulator 2</td>\n",
       "      <td>5</td>\n",
       "    </tr>\n",
       "    <tr>\n",
       "      <th>3</th>\n",
       "      <td>239030</td>\n",
       "      <td>js41637</td>\n",
       "      <td>2</td>\n",
       "      <td>1</td>\n",
       "      <td>Papers, Please</td>\n",
       "      <td>5</td>\n",
       "    </tr>\n",
       "    <tr>\n",
       "      <th>4</th>\n",
       "      <td>370360</td>\n",
       "      <td>evcentric</td>\n",
       "      <td>2</td>\n",
       "      <td>1</td>\n",
       "      <td>TIS-100</td>\n",
       "      <td>5</td>\n",
       "    </tr>\n",
       "    <tr>\n",
       "      <th>...</th>\n",
       "      <td>...</td>\n",
       "      <td>...</td>\n",
       "      <td>...</td>\n",
       "      <td>...</td>\n",
       "      <td>...</td>\n",
       "      <td>...</td>\n",
       "    </tr>\n",
       "    <tr>\n",
       "      <th>44734</th>\n",
       "      <td>730</td>\n",
       "      <td>76561198239215706</td>\n",
       "      <td>2</td>\n",
       "      <td>1</td>\n",
       "      <td>Counter-Strike: Global Offensive</td>\n",
       "      <td>5</td>\n",
       "    </tr>\n",
       "    <tr>\n",
       "      <th>44735</th>\n",
       "      <td>730</td>\n",
       "      <td>wayfeng</td>\n",
       "      <td>1</td>\n",
       "      <td>1</td>\n",
       "      <td>Counter-Strike: Global Offensive</td>\n",
       "      <td>3</td>\n",
       "    </tr>\n",
       "    <tr>\n",
       "      <th>44736</th>\n",
       "      <td>253980</td>\n",
       "      <td>76561198251004808</td>\n",
       "      <td>2</td>\n",
       "      <td>1</td>\n",
       "      <td>Enclave</td>\n",
       "      <td>5</td>\n",
       "    </tr>\n",
       "    <tr>\n",
       "      <th>44737</th>\n",
       "      <td>730</td>\n",
       "      <td>72947282842</td>\n",
       "      <td>0</td>\n",
       "      <td>1</td>\n",
       "      <td>Counter-Strike: Global Offensive</td>\n",
       "      <td>1</td>\n",
       "    </tr>\n",
       "    <tr>\n",
       "      <th>44738</th>\n",
       "      <td>730</td>\n",
       "      <td>ApxLGhost</td>\n",
       "      <td>2</td>\n",
       "      <td>1</td>\n",
       "      <td>Counter-Strike: Global Offensive</td>\n",
       "      <td>5</td>\n",
       "    </tr>\n",
       "  </tbody>\n",
       "</table>\n",
       "<p>44739 rows × 6 columns</p>\n",
       "</div>"
      ],
      "text/plain": [
       "       item_id            user_id  sentiment_analysis  recommend  \\\n",
       "0         1250  76561197970982479                   2          1   \n",
       "1        22200  76561197970982479                   2          1   \n",
       "2       227300            js41637                   2          1   \n",
       "3       239030            js41637                   2          1   \n",
       "4       370360          evcentric                   2          1   \n",
       "...        ...                ...                 ...        ...   \n",
       "44734      730  76561198239215706                   2          1   \n",
       "44735      730            wayfeng                   1          1   \n",
       "44736   253980  76561198251004808                   2          1   \n",
       "44737      730        72947282842                   0          1   \n",
       "44738      730          ApxLGhost                   2          1   \n",
       "\n",
       "                               app_name  rating  \n",
       "0                         Killing Floor       5  \n",
       "1                            Zeno Clash       5  \n",
       "2                Euro Truck Simulator 2       5  \n",
       "3                        Papers, Please       5  \n",
       "4                               TIS-100       5  \n",
       "...                                 ...     ...  \n",
       "44734  Counter-Strike: Global Offensive       5  \n",
       "44735  Counter-Strike: Global Offensive       3  \n",
       "44736                           Enclave       5  \n",
       "44737  Counter-Strike: Global Offensive       1  \n",
       "44738  Counter-Strike: Global Offensive       5  \n",
       "\n",
       "[44739 rows x 6 columns]"
      ]
     },
     "execution_count": 4,
     "metadata": {},
     "output_type": "execute_result"
    }
   ],
   "source": [
    "import numpy as np\n",
    "scala = [5, 4, 3, 2, 1, 0]\n",
    "merged_df['rating'] = np.select(\n",
    "    [\n",
    "        (merged_df['sentiment_analysis'] == 2) & (merged_df['recommend'] == 1),\n",
    "        (merged_df['sentiment_analysis'] == 2) & (merged_df['recommend'] == 0),\n",
    "        (merged_df['sentiment_analysis'] == 1) & (merged_df['recommend'] == 1),\n",
    "        (merged_df['sentiment_analysis'] == 1) & (merged_df['recommend'] == 0),\n",
    "        (merged_df['sentiment_analysis'] == 0) & (merged_df['recommend'] == 1),\n",
    "        (merged_df['sentiment_analysis'] == 0) & (merged_df['recommend'] == 0)  \n",
    "    ],\n",
    "    scala,\n",
    "    default=0\n",
    ")\n",
    "\n",
    "merged_df\n"
   ]
  },
  {
   "cell_type": "markdown",
   "metadata": {},
   "source": [
    "Guardamos el Dataset en un nuevo archivo parquet"
   ]
  },
  {
   "cell_type": "code",
   "execution_count": 5,
   "metadata": {},
   "outputs": [],
   "source": [
    "merged_df.to_parquet('modelo.parquet')"
   ]
  },
  {
   "cell_type": "markdown",
   "metadata": {},
   "source": [
    "Leemos el archivo .parquet y lo cargarlo en un DataFrame de pandas"
   ]
  },
  {
   "cell_type": "code",
   "execution_count": 6,
   "metadata": {},
   "outputs": [
    {
     "data": {
      "text/html": [
       "<div>\n",
       "<style scoped>\n",
       "    .dataframe tbody tr th:only-of-type {\n",
       "        vertical-align: middle;\n",
       "    }\n",
       "\n",
       "    .dataframe tbody tr th {\n",
       "        vertical-align: top;\n",
       "    }\n",
       "\n",
       "    .dataframe thead th {\n",
       "        text-align: right;\n",
       "    }\n",
       "</style>\n",
       "<table border=\"1\" class=\"dataframe\">\n",
       "  <thead>\n",
       "    <tr style=\"text-align: right;\">\n",
       "      <th></th>\n",
       "      <th>item_id</th>\n",
       "      <th>user_id</th>\n",
       "      <th>sentiment_analysis</th>\n",
       "      <th>recommend</th>\n",
       "      <th>app_name</th>\n",
       "      <th>rating</th>\n",
       "    </tr>\n",
       "  </thead>\n",
       "  <tbody>\n",
       "    <tr>\n",
       "      <th>0</th>\n",
       "      <td>1250</td>\n",
       "      <td>76561197970982479</td>\n",
       "      <td>2</td>\n",
       "      <td>1</td>\n",
       "      <td>Killing Floor</td>\n",
       "      <td>5</td>\n",
       "    </tr>\n",
       "    <tr>\n",
       "      <th>1</th>\n",
       "      <td>22200</td>\n",
       "      <td>76561197970982479</td>\n",
       "      <td>2</td>\n",
       "      <td>1</td>\n",
       "      <td>Zeno Clash</td>\n",
       "      <td>5</td>\n",
       "    </tr>\n",
       "    <tr>\n",
       "      <th>2</th>\n",
       "      <td>227300</td>\n",
       "      <td>js41637</td>\n",
       "      <td>2</td>\n",
       "      <td>1</td>\n",
       "      <td>Euro Truck Simulator 2</td>\n",
       "      <td>5</td>\n",
       "    </tr>\n",
       "    <tr>\n",
       "      <th>3</th>\n",
       "      <td>239030</td>\n",
       "      <td>js41637</td>\n",
       "      <td>2</td>\n",
       "      <td>1</td>\n",
       "      <td>Papers, Please</td>\n",
       "      <td>5</td>\n",
       "    </tr>\n",
       "    <tr>\n",
       "      <th>4</th>\n",
       "      <td>370360</td>\n",
       "      <td>evcentric</td>\n",
       "      <td>2</td>\n",
       "      <td>1</td>\n",
       "      <td>TIS-100</td>\n",
       "      <td>5</td>\n",
       "    </tr>\n",
       "    <tr>\n",
       "      <th>...</th>\n",
       "      <td>...</td>\n",
       "      <td>...</td>\n",
       "      <td>...</td>\n",
       "      <td>...</td>\n",
       "      <td>...</td>\n",
       "      <td>...</td>\n",
       "    </tr>\n",
       "    <tr>\n",
       "      <th>44734</th>\n",
       "      <td>730</td>\n",
       "      <td>76561198239215706</td>\n",
       "      <td>2</td>\n",
       "      <td>1</td>\n",
       "      <td>Counter-Strike: Global Offensive</td>\n",
       "      <td>5</td>\n",
       "    </tr>\n",
       "    <tr>\n",
       "      <th>44735</th>\n",
       "      <td>730</td>\n",
       "      <td>wayfeng</td>\n",
       "      <td>1</td>\n",
       "      <td>1</td>\n",
       "      <td>Counter-Strike: Global Offensive</td>\n",
       "      <td>3</td>\n",
       "    </tr>\n",
       "    <tr>\n",
       "      <th>44736</th>\n",
       "      <td>253980</td>\n",
       "      <td>76561198251004808</td>\n",
       "      <td>2</td>\n",
       "      <td>1</td>\n",
       "      <td>Enclave</td>\n",
       "      <td>5</td>\n",
       "    </tr>\n",
       "    <tr>\n",
       "      <th>44737</th>\n",
       "      <td>730</td>\n",
       "      <td>72947282842</td>\n",
       "      <td>0</td>\n",
       "      <td>1</td>\n",
       "      <td>Counter-Strike: Global Offensive</td>\n",
       "      <td>1</td>\n",
       "    </tr>\n",
       "    <tr>\n",
       "      <th>44738</th>\n",
       "      <td>730</td>\n",
       "      <td>ApxLGhost</td>\n",
       "      <td>2</td>\n",
       "      <td>1</td>\n",
       "      <td>Counter-Strike: Global Offensive</td>\n",
       "      <td>5</td>\n",
       "    </tr>\n",
       "  </tbody>\n",
       "</table>\n",
       "<p>44739 rows × 6 columns</p>\n",
       "</div>"
      ],
      "text/plain": [
       "       item_id            user_id  sentiment_analysis  recommend  \\\n",
       "0         1250  76561197970982479                   2          1   \n",
       "1        22200  76561197970982479                   2          1   \n",
       "2       227300            js41637                   2          1   \n",
       "3       239030            js41637                   2          1   \n",
       "4       370360          evcentric                   2          1   \n",
       "...        ...                ...                 ...        ...   \n",
       "44734      730  76561198239215706                   2          1   \n",
       "44735      730            wayfeng                   1          1   \n",
       "44736   253980  76561198251004808                   2          1   \n",
       "44737      730        72947282842                   0          1   \n",
       "44738      730          ApxLGhost                   2          1   \n",
       "\n",
       "                               app_name  rating  \n",
       "0                         Killing Floor       5  \n",
       "1                            Zeno Clash       5  \n",
       "2                Euro Truck Simulator 2       5  \n",
       "3                        Papers, Please       5  \n",
       "4                               TIS-100       5  \n",
       "...                                 ...     ...  \n",
       "44734  Counter-Strike: Global Offensive       5  \n",
       "44735  Counter-Strike: Global Offensive       3  \n",
       "44736                           Enclave       5  \n",
       "44737  Counter-Strike: Global Offensive       1  \n",
       "44738  Counter-Strike: Global Offensive       5  \n",
       "\n",
       "[44739 rows x 6 columns]"
      ]
     },
     "execution_count": 6,
     "metadata": {},
     "output_type": "execute_result"
    }
   ],
   "source": [
    "new_df = pd.read_parquet('modelo.parquet')\n",
    "new_df"
   ]
  },
  {
   "cell_type": "markdown",
   "metadata": {},
   "source": [
    "Adaptar rating_scale a a escala de datos"
   ]
  },
  {
   "cell_type": "code",
   "execution_count": 7,
   "metadata": {},
   "outputs": [],
   "source": [
    "reader = Reader(rating_scale=(0, 5))  "
   ]
  },
  {
   "cell_type": "markdown",
   "metadata": {},
   "source": [
    "Cargamos los datos de los usuarios, juegos y calificaciones en un objeto Dataset de Surprise"
   ]
  },
  {
   "cell_type": "code",
   "execution_count": 8,
   "metadata": {},
   "outputs": [],
   "source": [
    "data = Dataset.load_from_df(new_df[['user_id', 'app_name', 'rating']], reader)"
   ]
  },
  {
   "cell_type": "markdown",
   "metadata": {},
   "source": [
    "Se divide el conjunto de datos en entrenamiento y prueba"
   ]
  },
  {
   "cell_type": "code",
   "execution_count": 9,
   "metadata": {},
   "outputs": [],
   "source": [
    "trainset, testset = train_test_split(data, test_size=0.2,random_state=42)  "
   ]
  },
  {
   "cell_type": "markdown",
   "metadata": {},
   "source": [
    "Optimización de hiperparamétros con GridSeachCV"
   ]
  },
  {
   "cell_type": "code",
   "execution_count": 10,
   "metadata": {},
   "outputs": [],
   "source": [
    "from surprise.model_selection import GridSearchCV\n",
    "\n",
    "param_grid = {'n_factors': [5,50,100],'n_epochs': [5, 10,20], 'lr_all': [0.001, 0.002, 0.005],\n",
    "              'reg_all': [0.002, 0.02, 0.2]}\n",
    "gs = GridSearchCV(SVD, param_grid, measures=['rmse'], cv=5, n_jobs = -1)\n",
    "gs.fit(data)"
   ]
  },
  {
   "cell_type": "markdown",
   "metadata": {},
   "source": [
    "Observamos el RMSE y los hiperparamétros para nuestro modelo "
   ]
  },
  {
   "cell_type": "code",
   "execution_count": 11,
   "metadata": {},
   "outputs": [
    {
     "name": "stdout",
     "output_type": "stream",
     "text": [
      "1.4896067695799884\n",
      "{'n_factors': 100, 'n_epochs': 20, 'lr_all': 0.005, 'reg_all': 0.2}\n"
     ]
    }
   ],
   "source": [
    "print(gs.best_score['rmse'])\n",
    "print(gs.best_params['rmse'])"
   ]
  },
  {
   "cell_type": "markdown",
   "metadata": {},
   "source": [
    "Seleccionamos el algoritmo SVD con sus hiperparamétros  y entrenamos el modelo"
   ]
  },
  {
   "cell_type": "code",
   "execution_count": 12,
   "metadata": {},
   "outputs": [
    {
     "data": {
      "text/plain": [
       "<surprise.prediction_algorithms.matrix_factorization.SVD at 0x2bdfbd3ee90>"
      ]
     },
     "execution_count": 12,
     "metadata": {},
     "output_type": "execute_result"
    }
   ],
   "source": [
    "model = SVD(n_factors=100, n_epochs=20, lr_all=0.005, reg_all=0.2)\n",
    "model.fit(trainset)"
   ]
  },
  {
   "cell_type": "markdown",
   "metadata": {},
   "source": [
    "Guardamos el modelo en un archivo .pkl"
   ]
  },
  {
   "cell_type": "code",
   "execution_count": 13,
   "metadata": {},
   "outputs": [],
   "source": [
    "with open('modelo.pkl', 'wb') as archivo:\n",
    "    pickle.dump(model, archivo)"
   ]
  },
  {
   "cell_type": "markdown",
   "metadata": {},
   "source": [
    "Abrimos el archivo .pkl y lo instanciamos en una en una variable"
   ]
  },
  {
   "cell_type": "code",
   "execution_count": 14,
   "metadata": {},
   "outputs": [],
   "source": [
    "with open ('modelo.pkl', 'rb') as archivo:\n",
    "    modelo = pickle.load(archivo)"
   ]
  },
  {
   "cell_type": "code",
   "execution_count": 15,
   "metadata": {},
   "outputs": [
    {
     "name": "stdout",
     "output_type": "stream",
     "text": [
      "<surprise.prediction_algorithms.matrix_factorization.SVD object at 0x000002BDFBD3E7D0>\n",
      "Number of factors: 100\n",
      "Number of epochs: 20\n"
     ]
    }
   ],
   "source": [
    "print(modelo)\n",
    "print(\"Number of factors:\", modelo.n_factors)\n",
    "print(\"Number of epochs:\", modelo.n_epochs)"
   ]
  },
  {
   "cell_type": "markdown",
   "metadata": {},
   "source": [
    "Construyo la función para las recomendaciones "
   ]
  },
  {
   "cell_type": "code",
   "execution_count": 16,
   "metadata": {},
   "outputs": [],
   "source": [
    "def recomendacion_usuario( id_usuario ):\n",
    "    lista=[]\n",
    "    if id_usuario not in new_df['user_id'].unique():\n",
    "        return {'error': 'El usuario no existe.'}\n",
    "    \n",
    "    #Crear una lista de juegos valorados por el usuario\n",
    "    juegos_valorados = new_df[new_df['user_id'] == id_usuario]['app_name'].unique()\n",
    "\n",
    "    #Crear una lista de todos los juegos disponibles\n",
    "    todos_los_juegos = new_df['app_name'].unique()\n",
    "\n",
    "    #Crear una lista de juegos no valorados por el usuario específico\n",
    "    juegos_no_valorados = list(set(todos_los_juegos) - set(juegos_valorados))\n",
    "\n",
    "    #Generar predicciones para los juegos no valorados por el usuario\n",
    "    predicciones = [modelo.predict(id_usuario, juego) for juego in juegos_no_valorados]\n",
    "\n",
    "    #Ordenar las predicciones en base a la valoración y obtener los juegos recomendados\n",
    "    recomendaciones = sorted(predicciones, key=lambda x: x.est, reverse=True)[:5]  # Obtener las 5 mejores recomendaciones\n",
    "\n",
    "  # Almacenar los nombres de los juegos recomendados en una lista\n",
    "    juegos_recomendados = [recomendacion.iid for recomendacion in recomendaciones]\n",
    "    \n",
    "    # Crear un diccionario con los nombres de los juegos recomendados\n",
    "    recomendaciones_dict = {\n",
    "        'Juego 1': juegos_recomendados[0],\n",
    "        'Juego 2': juegos_recomendados[1],\n",
    "        'Juego 3': juegos_recomendados[2],\n",
    "        'Juego 4': juegos_recomendados[3],\n",
    "        'Juego 5': juegos_recomendados[4]\n",
    "    }\n",
    "    \n",
    "    # Devolver el diccionario con los nombres de los juegos recomendados\n",
    "    return recomendaciones_dict\n",
    "    "
   ]
  },
  {
   "cell_type": "code",
   "execution_count": 17,
   "metadata": {},
   "outputs": [
    {
     "data": {
      "text/plain": [
       "{'Juego 1': \"King Arthur's Gold\",\n",
       " 'Juego 2': 'Gunpoint',\n",
       " 'Juego 3': 'Psychonauts',\n",
       " 'Juego 4': 'Yet Another Zombie Defense',\n",
       " 'Juego 5': 'Dungeon Defenders'}"
      ]
     },
     "execution_count": 17,
     "metadata": {},
     "output_type": "execute_result"
    }
   ],
   "source": [
    "recomendacion_usuario('js41637')"
   ]
  },
  {
   "cell_type": "code",
   "execution_count": 18,
   "metadata": {},
   "outputs": [
    {
     "data": {
      "text/plain": [
       "{'Juego 1': \"King Arthur's Gold\",\n",
       " 'Juego 2': 'Ori and the Blind Forest',\n",
       " 'Juego 3': 'Dungeon Defenders',\n",
       " 'Juego 4': 'Rogue Legacy',\n",
       " 'Juego 5': 'Mark of the Ninja'}"
      ]
     },
     "execution_count": 18,
     "metadata": {},
     "output_type": "execute_result"
    }
   ],
   "source": [
    "recomendacion_usuario(\"maplemage\")"
   ]
  },
  {
   "cell_type": "code",
   "execution_count": 19,
   "metadata": {},
   "outputs": [
    {
     "data": {
      "text/plain": [
       "{'error': 'El usuario no existe.'}"
      ]
     },
     "execution_count": 19,
     "metadata": {},
     "output_type": "execute_result"
    }
   ],
   "source": [
    "recomendacion_usuario(\"tecool\")"
   ]
  },
  {
   "cell_type": "code",
   "execution_count": 20,
   "metadata": {},
   "outputs": [
    {
     "data": {
      "text/plain": [
       "{'Juego 1': \"King Arthur's Gold\",\n",
       " 'Juego 2': 'The Wolf Among Us',\n",
       " 'Juego 3': 'Yet Another Zombie Defense',\n",
       " 'Juego 4': 'Dungeon Defenders',\n",
       " 'Juego 5': 'Rogue Legacy'}"
      ]
     },
     "execution_count": 20,
     "metadata": {},
     "output_type": "execute_result"
    },
    {
     "ename": "",
     "evalue": "",
     "output_type": "error",
     "traceback": [
      "\u001b[1;31mThe Kernel crashed while executing code in the current cell or a previous cell. \n",
      "\u001b[1;31mPlease review the code in the cell(s) to identify a possible cause of the failure. \n",
      "\u001b[1;31mClick <a href='https://aka.ms/vscodeJupyterKernelCrash'>here</a> for more info. \n",
      "\u001b[1;31mView Jupyter <a href='command:jupyter.viewOutput'>log</a> for further details."
     ]
    }
   ],
   "source": [
    "recomendacion_usuario(\"TeCool\")"
   ]
  }
 ],
 "metadata": {
  "kernelspec": {
   "display_name": "datascience",
   "language": "python",
   "name": "python3"
  },
  "language_info": {
   "codemirror_mode": {
    "name": "ipython",
    "version": 3
   },
   "file_extension": ".py",
   "mimetype": "text/x-python",
   "name": "python",
   "nbconvert_exporter": "python",
   "pygments_lexer": "ipython3",
   "version": "3.11.3"
  }
 },
 "nbformat": 4,
 "nbformat_minor": 2
}
